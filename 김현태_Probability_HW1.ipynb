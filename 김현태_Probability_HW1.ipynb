{
  "nbformat": 4,
  "nbformat_minor": 0,
  "metadata": {
    "colab": {
      "provenance": [],
      "collapsed_sections": [],
      "include_colab_link": true
    },
    "kernelspec": {
      "name": "python3",
      "display_name": "Python 3"
    },
    "language_info": {
      "name": "python"
    }
  },
  "cells": [
    {
      "cell_type": "markdown",
      "metadata": {
        "id": "view-in-github",
        "colab_type": "text"
      },
      "source": [
        "<a href=\"https://colab.research.google.com/github/Kimhyuntae9665/-/blob/master/%EA%B9%80%ED%98%84%ED%83%9C_Probability_HW1.ipynb\" target=\"_parent\"><img src=\"https://colab.research.google.com/assets/colab-badge.svg\" alt=\"Open In Colab\"/></a>"
      ]
    },
    {
      "cell_type": "markdown",
      "source": [
        "#Note for CB26023 : Probability and Statistics - 2022 Fall Semester (059)"
      ],
      "metadata": {
        "id": "ZBYjRcD2wdcx"
      }
    },
    {
      "cell_type": "code",
      "source": [
        "import sys\n",
        "print(sys.version)\n",
        "\n",
        "import math\n",
        "# math.comb (Combination, nCr) is avaiable after Python version 3.8\n",
        "#math.comb(45, 6)\n",
        "print('C(45,6) = ', math.factorial(45)/(math.factorial(39)*math.factorial(6)))\n",
        "#math.comb(52, 5)\n",
        "print('C(52,5) = ', math.factorial(52)/(math.factorial(47)*math.factorial(5)))"
      ],
      "metadata": {
        "colab": {
          "base_uri": "https://localhost:8080/"
        },
        "id": "56Fl_7WW0200",
        "outputId": "409000e3-d6fc-4d43-fde6-8e908049837f"
      },
      "execution_count": null,
      "outputs": [
        {
          "output_type": "stream",
          "name": "stdout",
          "text": [
            "3.7.13 (default, Apr 24 2022, 01:04:09) \n",
            "[GCC 7.5.0]\n",
            "C(45,6) =  8145060.0\n",
            "C(52,5) =  2598960.0\n"
          ]
        }
      ]
    },
    {
      "cell_type": "markdown",
      "source": [
        "## About me\n",
        "**작성자 : 김현태**\n",
        "\n",
        "부산에서 태어나 울산에서 초-중-고등학생 시절을 보내고 2020년 부산대학교 [정보컴퓨터공학부](http://cse.pusan.ac.kr)에 입학하여 낯선 도시에 적응하고있음. 컴퓨터에 특별한 흥미는 없었으나 하다보면 어느정도 재미를 붙일 수 있을거 같아 부산대학교 컴퓨터공학부에 입학하였습니다. 23살인 아직까지 흥미를 붙이지는 못 하고 있습니다. 앞으로 시간이 얼마나 걸릴지 모르겠으며, 험난한 진로가 예상됩니다.\n",
        "\n",
        "학문적으로 자신이 있는 과목은 특별히 없지만, 해야하는 공부는 뛰어난 성적을 거두지는 않지만 잘 참고 넘기는 편입니다.\n",
        "\n",
        "취미는 운동하는 것을 광적으로 좋아합니다. 운동에 재미를 붙이면서 삶에 긍정적인 에너지를 느끼기 시작했습니다. 헬스를 하는 것을 좋아하며 그중에서도 특히 [데드리프트](https://lh3.googleusercontent.com/NrfaMcOC-vOYvG8QaaRMN-nSxZuExvagNqFbqJFfs5DjKsc0PfiRHcBazNngfva6uGjyfRnhB1V81WLGBnxbIMFI_UjqMzTd7LArS-TuNP2s-IxBohTReEv7xgeaVA_9nJqTq4A8nA=w700-h410-no)를 아주 즐깁니다. \n",
        "\n",
        "<p align=\"center\">\n",
        "<img src=\"https://lh3.googleusercontent.com/kizFLaePpRbqzPnHJ87ZSuYC9FybNfAQH2aNwtlaGllQn4IQGpr_VqCSfuSyrIXj67u_x7UkUi0d2uEHXeYp3LKB3BKWWsFvRy5prkmLZrOgyOHojZK30mCRYuSmMGqne2A1n6afChJi-FlLvRuDH3Vw-GmxXdSOeFCN6drKMG1FzkIpEgFC4CPXhjyYfWVE0GmcFttRdhBkaz8vMfEZH6H23X5YAd6YqKrL7JA-P7F4AGEvFmj-hS6KQ08nh20-hvlCeyZSPqe1W7R9q2WNW3s94CefaW40RkqzRGXK8hXQWVXgyHS3FzvrWeUPcAK1fC2fihfeaNurzlsiAmJyoH-p9bdn_aM2V1Rmr0wi4oC6xbBZKzZusVEyQhbvKijhda_iVKllnTTzJmieO6XwiJghHx2o7qVxrH2xKlSVzNdC5hWysw3ljATX7jONq11bO4UvJytv9KJSJN_mn2Wk_2p5wWPc4_fMC-MNu-09GN7FE0lwklrUm5V-I2Wfm7XWFF46xzHoFYDJiT67ksWsKaYlx48D8Apz7j9Vf8JIQhMZM2Lazp8wQKOn1SeSiHUFPxOZfFGJ8e-3YsKDMOlm4YCEz2q3mQQ6vb0SNioQA_5qgJSolxKSYXhG4cSmdTn1IzCQUkGWucfUeGSJ1QNqSNLhHSOW-ipUAmxkd9dM7WbRB6DVaO4tS3i9uCQ_85yJUqHFBWnDdofGG4EI5MQUCgUKjaUtuOiXwgGdSQoSwHk0HAUOsXhHvQWeHSQipcHa8GpouFzes94j9lZJQB2oZsmlPfcgBUIZgPsI=w588-h783-no?authuser=0\" alt=\"My photo2\" width=\"160\"/>\n",
        "</p>\n",
        "\n",
        "[\"Example of Embedding a Google Drive Image\" from Stackoverflow](https://stackoverflow.com/questions/15557392/how-do-i-display-images-from-google-drive-on-a-website)\n",
        "\n",
        "![My photo](http://www.pusan.ac.kr/_contents/kor/_Img/Layout/logo.png)"
      ],
      "metadata": {
        "id": "kiEpocFfwg6n"
      }
    },
    {
      "cell_type": "code",
      "execution_count": null,
      "metadata": {
        "id": "aBdHIZ7ZwM59"
      },
      "outputs": [],
      "source": []
    }
  ]
}